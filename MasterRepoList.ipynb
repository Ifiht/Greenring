{
 "cells": [
  {
   "cell_type": "markdown",
   "id": "9fba1139-57b2-4644-91a9-833c8b6a1621",
   "metadata": {},
   "source": [
    "## Clone a repository to get started:"
   ]
  },
  {
   "cell_type": "code",
   "execution_count": 2,
   "id": "7cafe95b-7bc5-4c00-80b5-c67da968444c",
   "metadata": {},
   "outputs": [
    {
     "name": "stdout",
     "output_type": "stream",
     "text": [
      "M\t.ash\n",
      "M\t.ipython/profile_default/history.sqlite\n",
      "M\t.jupyter-server-log.txt\n",
      "M\t.jupyter/lab/workspaces/default-37a8.jupyterlab-workspace\n",
      "M\t.local/share/jupyter/nbsignatures.db\n",
      "M\t.local/share/jupyter/runtime/nbserver-360-open.html\n",
      "M\t.local/share/jupyter/runtime/nbserver-360.json\n",
      "Already on 'main'\n",
      "Your branch is up to date with 'origin/main'.\n"
     ]
    }
   ],
   "source": [
    "### Needed to start the shell repo:\n",
    "! cd .ash/\n",
    "! git checkout main"
   ]
  },
  {
   "cell_type": "markdown",
   "id": "a308e261-d076-43f6-9bc2-9da3aba5d4f5",
   "metadata": {},
   "source": [
    "### 🍄 Rush"
   ]
  },
  {
   "cell_type": "code",
   "execution_count": 1,
   "id": "0ebf630b-c14f-4f3c-9521-8d69095e331e",
   "metadata": {},
   "outputs": [
    {
     "name": "stdout",
     "output_type": "stream",
     "text": [
      "Cloning into 'rush'...\n",
      "remote: Enumerating objects: 2875, done.\u001b[K\n",
      "remote: Counting objects: 100% (2875/2875), done.\u001b[K\n",
      "remote: Compressing objects: 100% (2358/2358), done.\u001b[K\n",
      "remote: Total 2875 (delta 743), reused 2411 (delta 285), pack-reused 0\u001b[K\n",
      "Receiving objects: 100% (2875/2875), 5.21 MiB | 9.95 MiB/s, done.\n",
      "Resolving deltas: 100% (743/743), done.\n",
      "Fetching: bundler-2.2.31.gem (100%)\n",
      "Successfully installed bundler-2.2.31\n",
      "Parsing documentation for bundler-2.2.31\n",
      "Installing ri documentation for bundler-2.2.31\n",
      "Done installing documentation for bundler after 9 seconds\n",
      "1 gem installed\n",
      "Fetching gem metadata from https://rubygems.org/.......\n",
      "Using bundler 2.2.31\n",
      "\u001b[32mFetching colorize 0.8.1\u001b[0m\n",
      "\u001b[32mFetching io-console 0.5.9\u001b[0m\n",
      "\u001b[32mInstalling io-console 0.5.9 with native extensions\u001b[0m\n",
      "\u001b[32mInstalling colorize 0.8.1\u001b[0m\n",
      "\u001b[32mFetching reline 0.2.7\u001b[0m\n",
      "\u001b[32mInstalling reline 0.2.7\u001b[0m\n",
      "\u001b[32mFetching irb 1.3.7\u001b[0m\n",
      "\u001b[32mInstalling irb 1.3.7\u001b[0m\n",
      "\u001b[32mBundle complete! 2 Gemfile dependencies, 5 gems now installed.\u001b[0m\n",
      "\u001b[32mUse `bundle info [gemname]` to see where a bundled gem is installed.\u001b[0m\n"
     ]
    }
   ],
   "source": [
    "! git clone https://github.com/Ifiht/rush.git\n",
    "! gem install bundler\n",
    "! bundle install --gemfile=/home/jovyan/rush/Gemfile\n",
    "! cd /home/jovyan/rush\n",
    "! git submodule update --init --recursive"
   ]
  },
  {
   "cell_type": "markdown",
   "id": "504e8fad-fdbe-473e-9c4d-aa7986304241",
   "metadata": {},
   "source": [
    "### ✒️ Personal Blog"
   ]
  },
  {
   "cell_type": "code",
   "execution_count": 3,
   "id": "0c5c8f85-25c6-4c33-866a-882de884ecef",
   "metadata": {},
   "outputs": [
    {
     "name": "stdout",
     "output_type": "stream",
     "text": [
      "Cloning into 'ifiht.github.io'...\n",
      "remote: Enumerating objects: 1602, done.\u001b[K\n",
      "remote: Counting objects: 100% (1602/1602), done.\u001b[K\n",
      "remote: Compressing objects: 100% (703/703), done.\u001b[K\n",
      "remote: Total 1602 (delta 647), reused 1426 (delta 483), pack-reused 0\u001b[K\n",
      "Receiving objects: 100% (1602/1602), 14.22 MiB | 17.27 MiB/s, done.\n",
      "Resolving deltas: 100% (647/647), done.\n"
     ]
    }
   ],
   "source": [
    "! git clone https://github.com/Ifiht/ifiht.github.io.git"
   ]
  },
  {
   "cell_type": "markdown",
   "id": "aa5193a1-bb0f-4ad4-acb9-bd2ed2594f00",
   "metadata": {},
   "source": [
    "### 🍎 RUSH App"
   ]
  },
  {
   "cell_type": "code",
   "execution_count": 4,
   "id": "75b1368e-3041-4b07-b2bd-c5801d410213",
   "metadata": {},
   "outputs": [
    {
     "name": "stdout",
     "output_type": "stream",
     "text": [
      "Cloning into 'RUSH-app'...\n",
      "remote: Enumerating objects: 112, done.\u001b[K\n",
      "remote: Counting objects: 100% (112/112), done.\u001b[K\n",
      "remote: Compressing objects: 100% (85/85), done.\u001b[K\n",
      "remote: Total 112 (delta 12), reused 107 (delta 9), pack-reused 0\u001b[K\n",
      "Receiving objects: 100% (112/112), 237.18 KiB | 2.50 MiB/s, done.\n",
      "Resolving deltas: 100% (12/12), done.\n"
     ]
    }
   ],
   "source": [
    "! git clone https://github.com/Ifiht/RUSH-app.git"
   ]
  },
  {
   "cell_type": "markdown",
   "id": "2cbea72e-cefe-40c7-aa83-9f6fd58b2f3f",
   "metadata": {},
   "source": [
    "### 🐌 Clojure Shell"
   ]
  },
  {
   "cell_type": "code",
   "execution_count": 6,
   "id": "66bb3852-8f84-414c-9cc0-39705fb8a89d",
   "metadata": {},
   "outputs": [
    {
     "name": "stdout",
     "output_type": "stream",
     "text": [
      "Cloning into 'cljsh'...\n",
      "remote: Enumerating objects: 558, done.\u001b[K\n",
      "remote: Counting objects: 100% (558/558), done.\u001b[K\n",
      "remote: Compressing objects: 100% (418/418), done.\u001b[K\n",
      "remote: Total 558 (delta 165), reused 467 (delta 84), pack-reused 0\u001b[K\n",
      "Receiving objects: 100% (558/558), 16.82 MiB | 4.96 MiB/s, done.\n",
      "Resolving deltas: 100% (165/165), done.\n"
     ]
    }
   ],
   "source": [
    "! git clone https://github.com/Ifiht/cljsh.git"
   ]
  },
  {
   "cell_type": "markdown",
   "id": "69a61053-f78f-4320-a669-ae4bfe6e0e93",
   "metadata": {},
   "source": [
    "### 🛡️ Firewall Blocklist"
   ]
  },
  {
   "cell_type": "code",
   "execution_count": 1,
   "id": "f7abf543-baf9-4b5c-84f5-e17c435fa0f3",
   "metadata": {},
   "outputs": [
    {
     "name": "stdout",
     "output_type": "stream",
     "text": [
      "Cloning into 'firewall-blocklist'...\n",
      "remote: Enumerating objects: 3, done.\u001b[K\n",
      "remote: Counting objects: 100% (3/3), done.\u001b[K\n",
      "remote: Compressing objects: 100% (2/2), done.\u001b[K\n",
      "remote: Total 3 (delta 0), reused 0 (delta 0), pack-reused 0\u001b[K\n",
      "Unpacking objects: 100% (3/3), done.\n"
     ]
    }
   ],
   "source": [
    "! git clone https://github.com/Ifiht/firewall-blocklist.git"
   ]
  },
  {
   "cell_type": "markdown",
   "id": "89bde8e8-2d4b-4978-b1cc-f03e2a675b8e",
   "metadata": {},
   "source": [
    "### ⚖️ Finaid"
   ]
  },
  {
   "cell_type": "code",
   "execution_count": 3,
   "id": "e4875345-ed23-43e9-ae0a-59894ba8fc49",
   "metadata": {},
   "outputs": [
    {
     "name": "stdout",
     "output_type": "stream",
     "text": [
      "Cloning into 'finaid'...\n",
      "remote: Enumerating objects: 92, done.\u001b[K\n",
      "remote: Counting objects: 100% (92/92), done.\u001b[K\n",
      "remote: Compressing objects: 100% (66/66), done.\u001b[K\n",
      "remote: Total 92 (delta 42), reused 64 (delta 18), pack-reused 0\u001b[K\n",
      "Unpacking objects: 100% (92/92), done.\n"
     ]
    }
   ],
   "source": [
    "! git clone https://github.com/Ifiht/finaid.git"
   ]
  },
  {
   "cell_type": "markdown",
   "id": "8accb292-87d3-4c37-838f-ee468e2091b2",
   "metadata": {},
   "source": [
    "### ⛩️ RVM"
   ]
  },
  {
   "cell_type": "code",
   "execution_count": 3,
   "id": "0fa989ec-4dd7-4b75-9b0e-0e3d5b50da2e",
   "metadata": {},
   "outputs": [
    {
     "name": "stdout",
     "output_type": "stream",
     "text": [
      "Cloning into 'rvm'...\n",
      "remote: Enumerating objects: 60039, done.\u001b[K\n",
      "remote: Counting objects: 100% (354/354), done.\u001b[K\n",
      "remote: Compressing objects: 100% (193/193), done.\u001b[K\n",
      "remote: Total 60039 (delta 193), reused 264 (delta 142), pack-reused 59685\u001b[K\n",
      "Receiving objects: 100% (60039/60039), 21.01 MiB | 12.01 MiB/s, done.\n",
      "Resolving deltas: 100% (38814/38814), done.\n"
     ]
    }
   ],
   "source": [
    "! git clone https://github.com/Ifiht/rvm.git"
   ]
  },
  {
   "cell_type": "markdown",
   "id": "44280ec3-10ed-4a42-9f21-8de731096a00",
   "metadata": {},
   "source": [
    "### 💬 Dashboard"
   ]
  },
  {
   "cell_type": "code",
   "execution_count": 3,
   "id": "a2f048ba-9ccc-4e36-a9e8-aabecdb5d9a4",
   "metadata": {},
   "outputs": [
    {
     "name": "stdout",
     "output_type": "stream",
     "text": [
      "fatal: destination path 'Dashboard' already exists and is not an empty directory.\n",
      "\u001b[K\u001b[?25h        \u001b[27m\u001b[90m......\u001b[0m] / install:inflight: \u001b[32minfo\u001b[0m \u001b[35mlifecycle\u001b[0m inflight@1.0.6~install:\u001b[0m\u001b[K\u001b[K\n",
      "> puppeteer@5.5.0 install /home/jovyan/Dashboard/node_modules/puppeteer\n",
      "> node install.js\n",
      "\n",
      "\u001b[1GDownloading Chromium r818858 - 132.1 Mb [                    ] 0% 0.0s \u001b[0K\u001b[1GDownloading Chromium r818858 - 132.1 Mb [                    ] 0% 6.4s \u001b[0K\u001b[1GDownloading Chromium r818858 - 132.1 Mb [                    ] 0% 5.7s \u001b[0K\u001b[1GDownloading Chromium r818858 - 132.1 Mb [                    ] 1% 4.6s \u001b[0K\u001b[1GDownloading Chromium r818858 - 132.1 Mb [                    ] 1% 3.9s \u001b[0K\u001b[1GDownloading Chromium r818858 - 132.1 Mb [                    ] 2% 3.7s \u001b[0K\u001b[1GDownloading Chromium r818858 - 132.1 Mb [                    ] 2% 3.9s \u001b[0K\u001b[1GDownloading Chromium r818858 - 132.1 Mb [=                   ] 2% 3.8s \u001b[0K\u001b[1GDownloading Chromium r818858 - 132.1 Mb [=                   ] 3% 4.5s \u001b[0K\u001b[1GDownloading Chromium r818858 - 132.1 Mb [=                   ] 4% 4.0s \u001b[0K\u001b[1GDownloading Chromium r818858 - 132.1 Mb [=                   ] 4% 3.8s \u001b[0K\u001b[1GDownloading Chromium r818858 - 132.1 Mb [=                   ] 5% 3.4s \u001b[0K\u001b[1GDownloading Chromium r818858 - 132.1 Mb [=                   ] 6% 3.8s \u001b[0K\u001b[1GDownloading Chromium r818858 - 132.1 Mb [=                   ] 7% 3.6s \u001b[0K\u001b[1GDownloading Chromium r818858 - 132.1 Mb [==                  ] 7% 3.3s \u001b[0K\u001b[1GDownloading Chromium r818858 - 132.1 Mb [==                  ] 8% 3.1s \u001b[0K\u001b[1GDownloading Chromium r818858 - 132.1 Mb [==                  ] 9% 2.9s \u001b[0K\u001b[1GDownloading Chromium r818858 - 132.1 Mb [==                  ] 10% 3.1s \u001b[0K\u001b[1GDownloading Chromium r818858 - 132.1 Mb [==                  ] 11% 2.9s \u001b[0K\u001b[1GDownloading Chromium r818858 - 132.1 Mb [===                 ] 12% 2.7s \u001b[0K\u001b[1GDownloading Chromium r818858 - 132.1 Mb [===                 ] 13% 2.5s \u001b[0K\u001b[1GDownloading Chromium r818858 - 132.1 Mb [===                 ] 14% 2.6s \u001b[0K\u001b[1GDownloading Chromium r818858 - 132.1 Mb [===                 ] 15% 2.5s \u001b[0K\u001b[1GDownloading Chromium r818858 - 132.1 Mb [===                 ] 17% 2.3s \u001b[0K\u001b[1GDownloading Chromium r818858 - 132.1 Mb [====                ] 18% 2.3s \u001b[0K\u001b[1GDownloading Chromium r818858 - 132.1 Mb [====                ] 19% 2.2s \u001b[0K\u001b[1GDownloading Chromium r818858 - 132.1 Mb [====                ] 19% 2.3s \u001b[0K\u001b[1GDownloading Chromium r818858 - 132.1 Mb [====                ] 20% 2.3s \u001b[0K\u001b[1GDownloading Chromium r818858 - 132.1 Mb [====                ] 20% 2.2s \u001b[0K\u001b[1GDownloading Chromium r818858 - 132.1 Mb [====                ] 21% 2.1s \u001b[0K\u001b[1GDownloading Chromium r818858 - 132.1 Mb [=====               ] 22% 2.2s \u001b[0K\u001b[1GDownloading Chromium r818858 - 132.1 Mb [=====               ] 23% 2.1s \u001b[0K\u001b[1GDownloading Chromium r818858 - 132.1 Mb [=====               ] 25% 2.0s \u001b[0K\u001b[1GDownloading Chromium r818858 - 132.1 Mb [=====               ] 26% 2.0s \u001b[0K\u001b[1GDownloading Chromium r818858 - 132.1 Mb [=====               ] 26% 2.1s \u001b[0K\u001b[1GDownloading Chromium r818858 - 132.1 Mb [======              ] 27% 2.0s \u001b[0K\u001b[1GDownloading Chromium r818858 - 132.1 Mb [======              ] 29% 1.9s \u001b[0K\u001b[1GDownloading Chromium r818858 - 132.1 Mb [======              ] 30% 1.8s \u001b[0K\u001b[1GDownloading Chromium r818858 - 132.1 Mb [======              ] 31% 1.8s \u001b[0K\u001b[1GDownloading Chromium r818858 - 132.1 Mb [======              ] 32% 1.7s \u001b[0K\u001b[1GDownloading Chromium r818858 - 132.1 Mb [=======             ] 32% 1.8s \u001b[0K\u001b[1GDownloading Chromium r818858 - 132.1 Mb [=======             ] 33% 1.7s \u001b[0K\u001b[1GDownloading Chromium r818858 - 132.1 Mb [=======             ] 35% 1.6s \u001b[0K\u001b[1GDownloading Chromium r818858 - 132.1 Mb [=======             ] 37% 1.5s \u001b[0K\u001b[1GDownloading Chromium r818858 - 132.1 Mb [========            ] 37% 1.6s \u001b[0K\u001b[1GDownloading Chromium r818858 - 132.1 Mb [========            ] 38% 1.5s \u001b[0K\u001b[1GDownloading Chromium r818858 - 132.1 Mb [========            ] 39% 1.5s \u001b[0K\u001b[1GDownloading Chromium r818858 - 132.1 Mb [========            ] 40% 1.4s \u001b[0K\u001b[1GDownloading Chromium r818858 - 132.1 Mb [========            ] 42% 1.4s \u001b[0K\u001b[1GDownloading Chromium r818858 - 132.1 Mb [=========           ] 42% 1.4s \u001b[0K\u001b[1GDownloading Chromium r818858 - 132.1 Mb [=========           ] 44% 1.3s \u001b[0K\u001b[1GDownloading Chromium r818858 - 132.1 Mb [=========           ] 45% 1.3s \u001b[0K\u001b[1GDownloading Chromium r818858 - 132.1 Mb [=========           ] 47% 1.2s \u001b[0K\u001b[1GDownloading Chromium r818858 - 132.1 Mb [==========          ] 48% 1.2s \u001b[0K\u001b[1GDownloading Chromium r818858 - 132.1 Mb [==========          ] 49% 1.2s \u001b[0K\u001b[1GDownloading Chromium r818858 - 132.1 Mb [==========          ] 50% 1.2s \u001b[0K\u001b[1GDownloading Chromium r818858 - 132.1 Mb [==========          ] 52% 1.1s \u001b[0K\u001b[1GDownloading Chromium r818858 - 132.1 Mb [===========         ] 53% 1.1s \u001b[0K\u001b[1GDownloading Chromium r818858 - 132.1 Mb [===========         ] 54% 1.1s \u001b[0K\u001b[1GDownloading Chromium r818858 - 132.1 Mb [===========         ] 55% 1.0s \u001b[0K\u001b[1GDownloading Chromium r818858 - 132.1 Mb [===========         ] 56% 1.0s \u001b[0K\u001b[1GDownloading Chromium r818858 - 132.1 Mb [===========         ] 57% 1.0s \u001b[0K\u001b[1GDownloading Chromium r818858 - 132.1 Mb [============        ] 58% 1.0s \u001b[0K\u001b[1GDownloading Chromium r818858 - 132.1 Mb [============        ] 58% 0.9s \u001b[0K\u001b[1GDownloading Chromium r818858 - 132.1 Mb [============        ] 59% 0.9s \u001b[0K\u001b[1GDownloading Chromium r818858 - 132.1 Mb [============        ] 61% 0.9s \u001b[0K\u001b[1GDownloading Chromium r818858 - 132.1 Mb [============        ] 62% 0.9s \u001b[0K\u001b[1GDownloading Chromium r818858 - 132.1 Mb [=============       ] 63% 0.8s \u001b[0K\u001b[1GDownloading Chromium r818858 - 132.1 Mb [=============       ] 64% 0.8s \u001b[0K\u001b[1GDownloading Chromium r818858 - 132.1 Mb [=============       ] 65% 0.8s \u001b[0K\u001b[1GDownloading Chromium r818858 - 132.1 Mb [=============       ] 66% 0.7s \u001b[0K\u001b[1GDownloading Chromium r818858 - 132.1 Mb [==============      ] 68% 0.7s \u001b[0K\u001b[1GDownloading Chromium r818858 - 132.1 Mb [==============      ] 70% 0.6s \u001b[0K\u001b[1GDownloading Chromium r818858 - 132.1 Mb [==============      ] 70% 0.7s \u001b[0K\u001b[1GDownloading Chromium r818858 - 132.1 Mb [==============      ] 71% 0.6s \u001b[0K\u001b[1GDownloading Chromium r818858 - 132.1 Mb [===============     ] 72% 0.6s \u001b[0K\u001b[1GDownloading Chromium r818858 - 132.1 Mb [===============     ] 74% 0.6s \u001b[0K\u001b[1GDownloading Chromium r818858 - 132.1 Mb [===============     ] 75% 0.5s \u001b[0K\u001b[1GDownloading Chromium r818858 - 132.1 Mb [===============     ] 76% 0.5s \u001b[0K\u001b[1GDownloading Chromium r818858 - 132.1 Mb [================    ] 78% 0.5s \u001b[0K\u001b[1GDownloading Chromium r818858 - 132.1 Mb [================    ] 79% 0.4s \u001b[0K\u001b[1GDownloading Chromium r818858 - 132.1 Mb [================    ] 80% 0.4s \u001b[0K\u001b[1GDownloading Chromium r818858 - 132.1 Mb [================    ] 81% 0.4s \u001b[0K\u001b[1GDownloading Chromium r818858 - 132.1 Mb [=================   ] 82% 0.4s \u001b[0K\u001b[1GDownloading Chromium r818858 - 132.1 Mb [=================   ] 84% 0.3s \u001b[0K\u001b[1GDownloading Chromium r818858 - 132.1 Mb [=================   ] 85% 0.3s \u001b[0K\u001b[1GDownloading Chromium r818858 - 132.1 Mb [=================   ] 87% 0.3s \u001b[0K\u001b[1GDownloading Chromium r818858 - 132.1 Mb [==================  ] 87% 0.3s \u001b[0K\u001b[1GDownloading Chromium r818858 - 132.1 Mb [==================  ] 88% 0.2s \u001b[0K\u001b[1GDownloading Chromium r818858 - 132.1 Mb [==================  ] 90% 0.2s \u001b[0K\u001b[1GDownloading Chromium r818858 - 132.1 Mb [==================  ] 91% 0.2s \u001b[0K\u001b[1GDownloading Chromium r818858 - 132.1 Mb [=================== ] 93% 0.1s \u001b[0K\u001b[1GDownloading Chromium r818858 - 132.1 Mb [=================== ] 94% 0.1s \u001b[0K\u001b[1GDownloading Chromium r818858 - 132.1 Mb [=================== ] 95% 0.1s \u001b[0K\u001b[1GDownloading Chromium r818858 - 132.1 Mb [====================] 97% 0.0s \u001b[0K\u001b[1GDownloading Chromium r818858 - 132.1 Mb [====================] 99% 0.0s \u001b[0K\u001b[1GDownloading Chromium r818858 - 132.1 Mb [====================] 100% 0.0s \u001b[0K\n",
      "Chromium (818858) downloaded to /home/jovyan/Dashboard/node_modules/puppeteer/.local-chromium/linux-818858\n",
      "\u001b[K\u001b[?25h7m            \u001b[27m\u001b[90m......\u001b[0m] - postinstall:path-exists: \u001b[32minfo\u001b[0m \u001b[35mlifecycle\u001b[0m path-exists@4.0.\u001b[0m\u001b[K\n",
      "> electron@16.0.7 postinstall /home/jovyan/Dashboard/node_modules/electron\n",
      "> node install.js\n",
      "\n",
      "\u001b[K\u001b[?25h\u001b[37;40mnpm\u001b[0m \u001b[0m\u001b[30;43mWARN\u001b[0m\u001b[35m\u001b[0m dashboard@1.0.0 No repository field.m dashboard@1.0.0~prepar\u001b[0m\u001b[K[0m\u001b[K\n",
      "\u001b[0m\n",
      "added 249 packages from 172 contributors and audited 249 packages in 39.392s\n",
      "\n",
      "29 packages are looking for funding\n",
      "  run `npm fund` for details\n",
      "\n",
      "found \u001b[91m10\u001b[0m vulnerabilities (1 \u001b[1mlow\u001b[0m, 3 \u001b[93mmoderate\u001b[0m, 5 \u001b[91mhigh\u001b[0m, 1 \u001b[95mcritical\u001b[0m)\n",
      "  run `npm audit fix` to fix them, or `npm audit` for details\n",
      "\u001b[K\u001b[?25h7m             \u001b[27m\u001b[90m.....\u001b[0m] \\ prepare:Dashboard: \u001b[7msill\u001b[0m \u001b[35minstall\u001b[0m printInstalled\u001b[0m\u001b[K"
     ]
    }
   ],
   "source": [
    "! git clone https://github.com/Ifiht/Dashboard.git\n",
    "! cd /home/jovyan/Dashboard\n",
    "! npm install --prefix ./Dashboard"
   ]
  },
  {
   "cell_type": "code",
   "execution_count": null,
   "id": "a5a7877d-c9e2-4d6b-a75e-0f40d09a1c78",
   "metadata": {},
   "outputs": [],
   "source": []
  }
 ],
 "metadata": {
  "kernelspec": {
   "display_name": "Python 3 (ipykernel)",
   "language": "python",
   "name": "python3"
  },
  "language_info": {
   "codemirror_mode": {
    "name": "ipython",
    "version": 3
   },
   "file_extension": ".py",
   "mimetype": "text/x-python",
   "name": "python",
   "nbconvert_exporter": "python",
   "pygments_lexer": "ipython3",
   "version": "3.7.12"
  }
 },
 "nbformat": 4,
 "nbformat_minor": 5
}
