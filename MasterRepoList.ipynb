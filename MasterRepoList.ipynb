{
 "cells": [
  {
   "cell_type": "markdown",
   "id": "9fba1139-57b2-4644-91a9-833c8b6a1621",
   "metadata": {},
   "source": [
    "## Clone a repository to get started:"
   ]
  },
  {
   "cell_type": "markdown",
   "id": "a308e261-d076-43f6-9bc2-9da3aba5d4f5",
   "metadata": {},
   "source": [
    "### 🍄 Rush"
   ]
  },
  {
   "cell_type": "code",
   "execution_count": 1,
   "id": "0ebf630b-c14f-4f3c-9521-8d69095e331e",
   "metadata": {},
   "outputs": [
    {
     "name": "stdout",
     "output_type": "stream",
     "text": [
      "Cloning into 'rush'...\n",
      "remote: Enumerating objects: 2838, done.\u001b[K\n",
      "remote: Counting objects: 100% (2838/2838), done.\u001b[K\n",
      "remote: Compressing objects: 100% (2330/2330), done.\u001b[K\n",
      "remote: Total 2838 (delta 720), reused 2388 (delta 277), pack-reused 0\u001b[K\n",
      "Receiving objects: 100% (2838/2838), 5.20 MiB | 11.92 MiB/s, done.\n",
      "Resolving deltas: 100% (720/720), done.\n"
     ]
    }
   ],
   "source": [
    "! git clone https://github.com/Ifiht/rush.git"
   ]
  },
  {
   "cell_type": "markdown",
   "id": "504e8fad-fdbe-473e-9c4d-aa7986304241",
   "metadata": {},
   "source": [
    "### ✒️ Personal Blog"
   ]
  },
  {
   "cell_type": "code",
   "execution_count": 3,
   "id": "0c5c8f85-25c6-4c33-866a-882de884ecef",
   "metadata": {},
   "outputs": [
    {
     "name": "stdout",
     "output_type": "stream",
     "text": [
      "Cloning into 'ifiht.github.io'...\n",
      "remote: Enumerating objects: 1602, done.\u001b[K\n",
      "remote: Counting objects: 100% (1602/1602), done.\u001b[K\n",
      "remote: Compressing objects: 100% (703/703), done.\u001b[K\n",
      "remote: Total 1602 (delta 647), reused 1426 (delta 483), pack-reused 0\u001b[K\n",
      "Receiving objects: 100% (1602/1602), 14.22 MiB | 17.27 MiB/s, done.\n",
      "Resolving deltas: 100% (647/647), done.\n"
     ]
    }
   ],
   "source": [
    "! git clone https://github.com/Ifiht/ifiht.github.io.git"
   ]
  },
  {
   "cell_type": "markdown",
   "id": "aa5193a1-bb0f-4ad4-acb9-bd2ed2594f00",
   "metadata": {},
   "source": [
    "### 🍎 RUSH App"
   ]
  },
  {
   "cell_type": "code",
   "execution_count": 4,
   "id": "75b1368e-3041-4b07-b2bd-c5801d410213",
   "metadata": {},
   "outputs": [
    {
     "name": "stdout",
     "output_type": "stream",
     "text": [
      "Cloning into 'RUSH-app'...\n",
      "remote: Enumerating objects: 112, done.\u001b[K\n",
      "remote: Counting objects: 100% (112/112), done.\u001b[K\n",
      "remote: Compressing objects: 100% (85/85), done.\u001b[K\n",
      "remote: Total 112 (delta 12), reused 107 (delta 9), pack-reused 0\u001b[K\n",
      "Receiving objects: 100% (112/112), 237.18 KiB | 2.50 MiB/s, done.\n",
      "Resolving deltas: 100% (12/12), done.\n"
     ]
    }
   ],
   "source": [
    "! git clone https://github.com/Ifiht/RUSH-app.git"
   ]
  },
  {
   "cell_type": "markdown",
   "id": "2cbea72e-cefe-40c7-aa83-9f6fd58b2f3f",
   "metadata": {},
   "source": [
    "### 🐌 Clojure Shell"
   ]
  },
  {
   "cell_type": "code",
   "execution_count": 6,
   "id": "66bb3852-8f84-414c-9cc0-39705fb8a89d",
   "metadata": {},
   "outputs": [
    {
     "name": "stdout",
     "output_type": "stream",
     "text": [
      "Cloning into 'cljsh'...\n",
      "remote: Enumerating objects: 558, done.\u001b[K\n",
      "remote: Counting objects: 100% (558/558), done.\u001b[K\n",
      "remote: Compressing objects: 100% (418/418), done.\u001b[K\n",
      "remote: Total 558 (delta 165), reused 467 (delta 84), pack-reused 0\u001b[K\n",
      "Receiving objects: 100% (558/558), 16.82 MiB | 4.96 MiB/s, done.\n",
      "Resolving deltas: 100% (165/165), done.\n"
     ]
    }
   ],
   "source": [
    "! git clone https://github.com/Ifiht/cljsh.git"
   ]
  },
  {
   "cell_type": "code",
   "execution_count": null,
   "id": "81cd6c5c-35e4-4c1a-b907-736280ac4912",
   "metadata": {},
   "outputs": [],
   "source": []
  }
 ],
 "metadata": {
  "kernelspec": {
   "display_name": "Python 3 (ipykernel)",
   "language": "python",
   "name": "python3"
  },
  "language_info": {
   "codemirror_mode": {
    "name": "ipython",
    "version": 3
   },
   "file_extension": ".py",
   "mimetype": "text/x-python",
   "name": "python",
   "nbconvert_exporter": "python",
   "pygments_lexer": "ipython3",
   "version": "3.7.10"
  }
 },
 "nbformat": 4,
 "nbformat_minor": 5
}
