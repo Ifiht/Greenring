{
 "cells": [
  {
   "cell_type": "markdown",
   "id": "9fba1139-57b2-4644-91a9-833c8b6a1621",
   "metadata": {},
   "source": [
    "## Clone a repository to get started:"
   ]
  },
  {
   "cell_type": "markdown",
   "id": "a308e261-d076-43f6-9bc2-9da3aba5d4f5",
   "metadata": {},
   "source": [
    "### 🍄 Rush"
   ]
  },
  {
   "cell_type": "code",
   "execution_count": 1,
   "id": "0ebf630b-c14f-4f3c-9521-8d69095e331e",
   "metadata": {},
   "outputs": [
    {
     "name": "stdout",
     "output_type": "stream",
     "text": [
      "Cloning into 'rush'...\n",
      "remote: Enumerating objects: 2875, done.\u001b[K\n",
      "remote: Counting objects: 100% (2875/2875), done.\u001b[K\n",
      "remote: Compressing objects: 100% (2358/2358), done.\u001b[K\n",
      "remote: Total 2875 (delta 743), reused 2411 (delta 285), pack-reused 0\u001b[K\n",
      "Receiving objects: 100% (2875/2875), 5.21 MiB | 9.95 MiB/s, done.\n",
      "Resolving deltas: 100% (743/743), done.\n",
      "Fetching: bundler-2.2.31.gem (100%)\n",
      "Successfully installed bundler-2.2.31\n",
      "Parsing documentation for bundler-2.2.31\n",
      "Installing ri documentation for bundler-2.2.31\n",
      "Done installing documentation for bundler after 9 seconds\n",
      "1 gem installed\n",
      "Fetching gem metadata from https://rubygems.org/.......\n",
      "Using bundler 2.2.31\n",
      "\u001b[32mFetching colorize 0.8.1\u001b[0m\n",
      "\u001b[32mFetching io-console 0.5.9\u001b[0m\n",
      "\u001b[32mInstalling io-console 0.5.9 with native extensions\u001b[0m\n",
      "\u001b[32mInstalling colorize 0.8.1\u001b[0m\n",
      "\u001b[32mFetching reline 0.2.7\u001b[0m\n",
      "\u001b[32mInstalling reline 0.2.7\u001b[0m\n",
      "\u001b[32mFetching irb 1.3.7\u001b[0m\n",
      "\u001b[32mInstalling irb 1.3.7\u001b[0m\n",
      "\u001b[32mBundle complete! 2 Gemfile dependencies, 5 gems now installed.\u001b[0m\n",
      "\u001b[32mUse `bundle info [gemname]` to see where a bundled gem is installed.\u001b[0m\n"
     ]
    }
   ],
   "source": [
    "! git clone https://github.com/Ifiht/rush.git\n",
    "! gem install bundler\n",
    "! bundle install --gemfile=/home/jovyan/rush/Gemfile\n",
    "! cd /home/jovyan/rush\n",
    "! git submodule update --init --recursive"
   ]
  },
  {
   "cell_type": "markdown",
   "id": "504e8fad-fdbe-473e-9c4d-aa7986304241",
   "metadata": {},
   "source": [
    "### ✒️ Personal Blog"
   ]
  },
  {
   "cell_type": "code",
   "execution_count": 3,
   "id": "0c5c8f85-25c6-4c33-866a-882de884ecef",
   "metadata": {},
   "outputs": [
    {
     "name": "stdout",
     "output_type": "stream",
     "text": [
      "Cloning into 'ifiht.github.io'...\n",
      "remote: Enumerating objects: 1602, done.\u001b[K\n",
      "remote: Counting objects: 100% (1602/1602), done.\u001b[K\n",
      "remote: Compressing objects: 100% (703/703), done.\u001b[K\n",
      "remote: Total 1602 (delta 647), reused 1426 (delta 483), pack-reused 0\u001b[K\n",
      "Receiving objects: 100% (1602/1602), 14.22 MiB | 17.27 MiB/s, done.\n",
      "Resolving deltas: 100% (647/647), done.\n"
     ]
    }
   ],
   "source": [
    "! git clone https://github.com/Ifiht/ifiht.github.io.git"
   ]
  },
  {
   "cell_type": "markdown",
   "id": "aa5193a1-bb0f-4ad4-acb9-bd2ed2594f00",
   "metadata": {},
   "source": [
    "### 🍎 RUSH App"
   ]
  },
  {
   "cell_type": "code",
   "execution_count": 4,
   "id": "75b1368e-3041-4b07-b2bd-c5801d410213",
   "metadata": {},
   "outputs": [
    {
     "name": "stdout",
     "output_type": "stream",
     "text": [
      "Cloning into 'RUSH-app'...\n",
      "remote: Enumerating objects: 112, done.\u001b[K\n",
      "remote: Counting objects: 100% (112/112), done.\u001b[K\n",
      "remote: Compressing objects: 100% (85/85), done.\u001b[K\n",
      "remote: Total 112 (delta 12), reused 107 (delta 9), pack-reused 0\u001b[K\n",
      "Receiving objects: 100% (112/112), 237.18 KiB | 2.50 MiB/s, done.\n",
      "Resolving deltas: 100% (12/12), done.\n"
     ]
    }
   ],
   "source": [
    "! git clone https://github.com/Ifiht/RUSH-app.git"
   ]
  },
  {
   "cell_type": "markdown",
   "id": "2cbea72e-cefe-40c7-aa83-9f6fd58b2f3f",
   "metadata": {},
   "source": [
    "### 🐌 Clojure Shell"
   ]
  },
  {
   "cell_type": "code",
   "execution_count": 6,
   "id": "66bb3852-8f84-414c-9cc0-39705fb8a89d",
   "metadata": {},
   "outputs": [
    {
     "name": "stdout",
     "output_type": "stream",
     "text": [
      "Cloning into 'cljsh'...\n",
      "remote: Enumerating objects: 558, done.\u001b[K\n",
      "remote: Counting objects: 100% (558/558), done.\u001b[K\n",
      "remote: Compressing objects: 100% (418/418), done.\u001b[K\n",
      "remote: Total 558 (delta 165), reused 467 (delta 84), pack-reused 0\u001b[K\n",
      "Receiving objects: 100% (558/558), 16.82 MiB | 4.96 MiB/s, done.\n",
      "Resolving deltas: 100% (165/165), done.\n"
     ]
    }
   ],
   "source": [
    "! git clone https://github.com/Ifiht/cljsh.git"
   ]
  },
  {
   "cell_type": "markdown",
   "id": "69a61053-f78f-4320-a669-ae4bfe6e0e93",
   "metadata": {},
   "source": [
    "### 🛡️ Firewall Blocklist"
   ]
  },
  {
   "cell_type": "code",
   "execution_count": 1,
   "id": "f7abf543-baf9-4b5c-84f5-e17c435fa0f3",
   "metadata": {},
   "outputs": [
    {
     "name": "stdout",
     "output_type": "stream",
     "text": [
      "Cloning into 'firewall-blocklist'...\n",
      "remote: Enumerating objects: 3, done.\u001b[K\n",
      "remote: Counting objects: 100% (3/3), done.\u001b[K\n",
      "remote: Compressing objects: 100% (2/2), done.\u001b[K\n",
      "remote: Total 3 (delta 0), reused 0 (delta 0), pack-reused 0\u001b[K\n",
      "Unpacking objects: 100% (3/3), done.\n"
     ]
    }
   ],
   "source": [
    "! git clone https://github.com/Ifiht/firewall-blocklist.git"
   ]
  },
  {
   "cell_type": "markdown",
   "id": "89bde8e8-2d4b-4978-b1cc-f03e2a675b8e",
   "metadata": {},
   "source": [
    "### ⚖️ Finaid"
   ]
  },
  {
   "cell_type": "code",
   "execution_count": 3,
   "id": "e4875345-ed23-43e9-ae0a-59894ba8fc49",
   "metadata": {},
   "outputs": [
    {
     "name": "stdout",
     "output_type": "stream",
     "text": [
      "Cloning into 'finaid'...\n",
      "remote: Enumerating objects: 92, done.\u001b[K\n",
      "remote: Counting objects: 100% (92/92), done.\u001b[K\n",
      "remote: Compressing objects: 100% (66/66), done.\u001b[K\n",
      "remote: Total 92 (delta 42), reused 64 (delta 18), pack-reused 0\u001b[K\n",
      "Unpacking objects: 100% (92/92), done.\n"
     ]
    }
   ],
   "source": [
    "! git clone https://github.com/Ifiht/finaid.git"
   ]
  },
  {
   "cell_type": "code",
   "execution_count": null,
   "id": "301eb1f3-de29-4fcb-ba30-0f859f6a9042",
   "metadata": {},
   "outputs": [],
   "source": []
  }
 ],
 "metadata": {
  "kernelspec": {
   "display_name": "Python 3 (ipykernel)",
   "language": "python",
   "name": "python3"
  },
  "language_info": {
   "codemirror_mode": {
    "name": "ipython",
    "version": 3
   },
   "file_extension": ".py",
   "mimetype": "text/x-python",
   "name": "python",
   "nbconvert_exporter": "python",
   "pygments_lexer": "ipython3",
   "version": "3.7.12"
  }
 },
 "nbformat": 4,
 "nbformat_minor": 5
}
